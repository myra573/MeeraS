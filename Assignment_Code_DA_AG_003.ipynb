{
  "nbformat": 4,
  "nbformat_minor": 0,
  "metadata": {
    "colab": {
      "provenance": [],
      "authorship_tag": "ABX9TyOhZ3vT+amkz4TABqDFPKGU",
      "include_colab_link": true
    },
    "kernelspec": {
      "name": "python3",
      "display_name": "Python 3"
    },
    "language_info": {
      "name": "python"
    }
  },
  "cells": [
    {
      "cell_type": "markdown",
      "metadata": {
        "id": "view-in-github",
        "colab_type": "text"
      },
      "source": [
        "<a href=\"https://colab.research.google.com/github/myra573/MeeraS/blob/main/Assignment_Code_DA_AG_003.ipynb\" target=\"_parent\"><img src=\"https://colab.research.google.com/assets/colab-badge.svg\" alt=\"Open In Colab\"/></a>"
      ]
    },
    {
      "cell_type": "markdown",
      "source": [
        "Question 1 : What is the difference between multithreading and multiprocessing?\n",
        "\n",
        "A multiprocessing system has more than two processors whereas Multithreading is a program execution technique that allows a single process to have multiple code segments\n",
        "Multiprocessing improves the reliability of the system while in the multithreading process, each thread runs parallel to each other.\n",
        "Multiprocessing helps you to increase computing power whereas multithreading helps you create computing threads of a single process\n",
        "In Multiprocessing, the creation of a process is slow and resource-specific whereas, in Multiprogramming, the creation of a thread is economical in time and resource.\n",
        "Multithreading avoids pickling, whereas Multiprocessing relies on pickling objects in memory to send to other processes.\n",
        "Multiprocessing systems take less time whereas for job processing a moderate amount of time is taken.\n"
      ],
      "metadata": {
        "id": "SxMzmqYzB1bX"
      }
    },
    {
      "cell_type": "markdown",
      "source": [
        "Question 2: What are the challenges associated with memory management in Python?\n",
        "\n",
        "\n",
        "Challenges associated with memory management in Python are below:\n",
        "\n",
        "\n",
        "- Memory leaks : Occur when object are no longer in use but released due to  lingering references. Example : Circular references where 2 or more objects reference each other, can prevent garbage collection from reclaiming memory.\n",
        "- Fragmentation : Happens when memory blocks become scattered due to frequent allocation and deallocation.\n",
        "- Garbage collection overhead : In real time applications, the unpredictable nature of garbage collection pauses can disrupt time sensitive operations.\n",
        "- Inefficient data structures : Lists and dictionaries may consume more memory than necessary. Choosing an inappropriate data structure can lead to excessive memory usage.\n",
        "- Lack of manual control : Python’s abstract memory management limits developer’s ability to manually allocate or deallocate memory.\n"
      ],
      "metadata": {
        "id": "KTKKCWyWB5jp"
      }
    },
    {
      "cell_type": "code",
      "source": [
        "# Question 3:Write a Python program that logs an error message to a log file when a division by zero exception occurs.\n",
        "\n",
        "import logging\n",
        "\n",
        "\n",
        "# Configure logging\n",
        "logging.basicConfig(filename='error.log', level=logging.ERROR,\n",
        "                    format='%(asctime)s - %(levelname)s - %(message)s')\n",
        "\n",
        "\n",
        "def divide_numbers(a, b):\n",
        "    try:\n",
        "        result = a / b\n",
        "        print(f\"The result is: {result}\")\n",
        "    except ZeroDivisionError as e:\n",
        "        logging.error(\"Division by zero error occurred\", exc_info=True)\n",
        "        print(\"An error occurred. Please check the log file for details.\")\n",
        "\n",
        "\n",
        "# Example usage\n",
        "divide_numbers(9, 0)"
      ],
      "metadata": {
        "colab": {
          "base_uri": "https://localhost:8080/"
        },
        "id": "Wm4PoI4XB9YJ",
        "outputId": "0665480d-b2b2-4fc7-9553-3d99dfbd7032"
      },
      "execution_count": 1,
      "outputs": [
        {
          "output_type": "stream",
          "name": "stderr",
          "text": [
            "ERROR:root:Division by zero error occurred\n",
            "Traceback (most recent call last):\n",
            "  File \"/tmp/ipython-input-4084953423.py\", line 13, in divide_numbers\n",
            "    result = a / b\n",
            "             ~~^~~\n",
            "ZeroDivisionError: division by zero\n"
          ]
        },
        {
          "output_type": "stream",
          "name": "stdout",
          "text": [
            "An error occurred. Please check the log file for details.\n"
          ]
        }
      ]
    },
    {
      "cell_type": "code",
      "source": [
        "# Question 4:Write a Python program that reads from one file and writes its content to another file.\n",
        "\n",
        "file1 = open(\"myfile.txt\", \"w\")\n",
        "L = [\"This is Delhi \\n\", \"This is Paris \\n\", \"This is London \\n\"]\n",
        "\n",
        "file1.write(\"Hello \\n\")          # write single line\n",
        "file1.writelines(L)              # write multiple lines\n",
        "file1.close()                    # close file\n",
        "\n",
        "file1 = open(\"myfile.txt\", \"r+\") # reopen file in read+append mode\n",
        "\n",
        "file2 = open(\"myfile.txt\", \"w\")\n",
        "L =[\"This is Germany\\n\", \"This is Linchesten\\n\"]\n",
        "file2.write(\"Hello\\n\")\n",
        "file2.writelines(L)\n",
        "\n",
        "file2 = open(\"myfile.txt\", \"r+\") # reopen file in read+append mode\n",
        "\n",
        "l = file1.readline()\n",
        "while l:\n",
        " \tfile2.write(l)\n",
        "print(file2.read())\n",
        ""
      ],
      "metadata": {
        "id": "1KxM5LxOCPAv"
      },
      "execution_count": null,
      "outputs": []
    },
    {
      "cell_type": "code",
      "source": [
        "# Question 5: Write a program that handles both IndexError and KeyError using a try-except block.\n",
        "\n",
        "try:\n",
        "    # Code that may raise IndexError\n",
        "    my_list = [1, 2, 3]\n",
        "    print(my_list[5])  # This will raise an IndexError\n",
        "\n",
        "    # Code that may raise KeyError\n",
        "    my_dict = {'a': 1, 'b': 2}\n",
        "    print(my_dict['c'])  # This will raise a KeyError\n",
        "\n",
        "except IndexError:\n",
        "    print(\"IndexError: Tried to access an index that does not exist in the list.\")\n",
        "\n",
        "except KeyError:\n",
        "    print(\"KeyError: Tried to access a key that does not exist in the dictionary.\")\n",
        "\n",
        "# Program continues execution\n",
        "print(\"Program execution continues...\")"
      ],
      "metadata": {
        "id": "sMgnH_itMD5D"
      },
      "execution_count": null,
      "outputs": []
    },
    {
      "cell_type": "markdown",
      "source": [
        "Question 6: What are the differences between NumPy arrays and Python lists?\n",
        "\t    \t                             \n",
        "1. Creation - NumPy can be created using np.array(); Python Lists can be created using square brackets []\n",
        "2. Size\t- NumPy has fixed size once created; for Python Lists size can be changed dynamically\n",
        "3. Performance - NumPy is optimized for numerical operations; Python Lists is slower for numerical operations\n",
        "4. Memory Usage - NumPy\tuses less memory; Python Lists uses more memory\n",
        "5. Functionality - NumPy provides array operations and functions; Python Lists provides basic list operations"
      ],
      "metadata": {
        "id": "kZfSRBhrNhpe"
      }
    },
    {
      "cell_type": "markdown",
      "source": [
        "Question 7:Explain the difference between apply() and map() in Pandas.\n",
        "\n",
        "- The apply() method is used to apply a function along the specified axis of the pandas DataFrame. apply() method operates on entire rows or columns at a time and is mostly suitable when it comes to applying functions that cannot be vectorised.\n",
        "- The map() method can applied only over pandas Series objects and is used to map the values of the Series based on the input which is used to substitute each value with the specified value that is derived from a dictionary, a function or even another Series object."
      ],
      "metadata": {
        "id": "ndQWM2gYREv9"
      }
    },
    {
      "cell_type": "code",
      "source": [
        "# Question 8: Create a histogram using Seaborn to visualize a distribution.\n",
        "\n",
        "import seaborn as sns\n",
        "import matplotlib.pyplot as plt\n",
        "\n",
        "# Example dataset: Penguins dataset (built into Seaborn)\n",
        "penguins = sns.load_dataset(\"penguins\")\n",
        "\n",
        "# Create a histogram for flipper length\n",
        "sns.histplot(data=penguins, x=\"flipper_length_mm\", kde=True, color=\"green\", bins=10)\n",
        "\n",
        "# Add labels and title\n",
        "plt.xlabel(\"Flipper Length (mm)\")\n",
        "plt.ylabel(\"Frequency\")\n",
        "plt.title(\"Distribution of Flipper Lengths in Penguins\")\n",
        "\n",
        "# Show the plot\n",
        "plt.show()"
      ],
      "metadata": {
        "id": "1DZg0UzKZFM6"
      },
      "execution_count": null,
      "outputs": []
    },
    {
      "cell_type": "code",
      "source": [
        "# Question 9: Use Pandas to load a CSV file and display its first 5 rows.\n",
        "\n",
        "import pandas as pd\n",
        "\n",
        "# Load the CSV file\n",
        "df = pd.read_csv('your_file.csv')  # Replace 'your_file.csv' with the actual file path\n",
        "\n",
        "# Display the first 5 rows\n",
        "print(df.head())"
      ],
      "metadata": {
        "id": "CNSRfiH2Z2Bw"
      },
      "execution_count": null,
      "outputs": []
    },
    {
      "cell_type": "code",
      "source": [
        "# Question 10: Calculate the correlation matrix using Seaborn and visualize it with a heatmap.\n",
        "\n",
        "import pandas as pd\n",
        "import numpy as np\n",
        "import seaborn as sns\n",
        "import matplotlib.pyplot as plt\n",
        "\n",
        "df = sns.load_dataset('tips')\n",
        "print(df.head())\n",
        "print(df.info())\n",
        "\n",
        "# Select only numerical columns for correlation calculation\n",
        "numerical_df = df.select_dtypes(include=np.number)\n",
        "\n",
        "# Calculate the correlation matrix\n",
        "correlation_matrix = numerical_df.corr()\n",
        "print(correlation_matrix)\n",
        "\n",
        "plt.figure(figsize=(8, 6)) # Set the figure size for better readability\n",
        "sns.heatmap(correlation_matrix)\n",
        "plt.title('Basic Correlation Matrix Heatmap')\n",
        "plt.show()\n",
        "\n"
      ],
      "metadata": {
        "id": "DNpZ0hD1ah0R"
      },
      "execution_count": null,
      "outputs": []
    }
  ]
}