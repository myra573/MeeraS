{
  "nbformat": 4,
  "nbformat_minor": 0,
  "metadata": {
    "colab": {
      "provenance": [],
      "authorship_tag": "ABX9TyOk9CMahjpJFkQXiWW7HEDz",
      "include_colab_link": true
    },
    "kernelspec": {
      "name": "python3",
      "display_name": "Python 3"
    },
    "language_info": {
      "name": "python"
    }
  },
  "cells": [
    {
      "cell_type": "markdown",
      "metadata": {
        "id": "view-in-github",
        "colab_type": "text"
      },
      "source": [
        "<a href=\"https://colab.research.google.com/github/myra573/MeeraS/blob/main/OOPS_Assignment.ipynb\" target=\"_parent\"><img src=\"https://colab.research.google.com/assets/colab-badge.svg\" alt=\"Open In Colab\"/></a>"
      ]
    },
    {
      "cell_type": "code",
      "execution_count": null,
      "metadata": {
        "id": "iWZNfxi-CXk4"
      },
      "outputs": [],
      "source": []
    },
    {
      "cell_type": "markdown",
      "source": [
        "1.  What is Object-Oriented Programming (OOP) ?\n",
        "Object-oriented programming (OOP) is a programming paradigm based on the concept of \"objects\", which may contain data, in the form of fields, often known as attributes; and code, in the form of procedures, often known as methods.\n",
        "\n",
        "For example, a person is an object which has certain properties such as height, gender, age, etc. It also has certain methods such as move, talk, and so on.\n",
        "\n",
        "OOP(object oriented programming) is a way to program in python.\n"
      ],
      "metadata": {
        "id": "U6Gmsbj4E7TG"
      }
    },
    {
      "cell_type": "markdown",
      "source": [
        "2.  What is a class in OOP ?\n",
        "\n",
        "Classes are blueprint/ template for creating an object.\n",
        "Eg : We are different objects of class 'human being'.\n"
      ],
      "metadata": {
        "id": "oz7rOv3mHpBg"
      }
    },
    {
      "cell_type": "markdown",
      "source": [
        "3.  What is an object in OOP ?\n",
        "\n",
        "An object is an instance of a class, representing a specific entity with its own state and behavior. For example, a \"Toyota Corolla\" object would have specific values for speed and color while inheriting the behaviors defined in the \"Car\" class.\n"
      ],
      "metadata": {
        "id": "ydnJF9ggIqHr"
      }
    },
    {
      "cell_type": "markdown",
      "source": [
        "4. What is the difference between abstraction and encapsulation ?\n",
        "\n",
        "- Abstraction shows only useful data by providing the most necessary details, whereas Encapsulation wraps code and data for necessary information.\n",
        "- Abstraction is focused mainly on what should be done, while Encapsulation is focused on how it should be done.\n",
        "- Abstraction hides complexity by giving you a more abstract picture, while Encapsulation hides internal work so that you can change it later.\n",
        "- Abstraction hides the irrelevant details found in the code, whereas Encapsulation helps developers to organize the entire code easily."
      ],
      "metadata": {
        "id": "3IdMRMQVJwqT"
      }
    },
    {
      "cell_type": "markdown",
      "source": [
        "5. What are dunder methods in Python ?\n",
        "\n",
        "Dunder/Magic/ Special methods are defined by built-in classes in python.\n",
        "\n",
        "We define these types of methods for creating custom objects. For implementing operator overloading in python.\n",
        "\n",
        "If you break dunder( d+ under) i.r. d- double , under _ i.e. all methods surrounding double underscore is a dunder method.\n",
        "\n",
        "\n",
        "\n"
      ],
      "metadata": {
        "id": "5q2ZEal0LL-Z"
      }
    },
    {
      "cell_type": "markdown",
      "source": [
        "6.  Explain the concept of inheritance in OOP ?\n",
        "\n",
        "Inheritance is a fundamental concept in object-oriented programming (OOP) that allows a class to inherit attributes and methods from another class. This mechanism promotes code reuse and establishes a hierarchical relationship between classes.\n"
      ],
      "metadata": {
        "id": "NGPdBsCHUa-U"
      }
    },
    {
      "cell_type": "markdown",
      "source": [
        "7.  What is polymorphism in OOP ?\n",
        "\n",
        "Polymorphism is a fundamental concept in object-oriented programming (OOP) that allows objects to take on multiple forms. The term originates from the Greek words poly (many) and morph (forms), meaning \"many forms.\" In programming, it enables a single interface or method to operate differently based on the object or context it is applied to.\n",
        "\n",
        "Key Principles of Polymorphism\n",
        "\n",
        "Dynamic Behavior: Polymorphism allows the same method or operation to behave differently depending on the object's actual type at runtime.\n",
        "\n",
        "Code Reusability: It promotes cleaner and more reusable code by enabling methods to work with objects of different types through a common interface or superclass.\n",
        "\n",
        "Flexibility: It allows developers to write more generic and extensible code, as objects can be treated as instances of their parent class or interface.\n"
      ],
      "metadata": {
        "id": "uXdK19tpUlzF"
      }
    },
    {
      "cell_type": "markdown",
      "source": [
        "8.  How is encapsulation achieved in Python ?\n",
        "\n",
        "Encapsulation in Python is an OOP concept that hides the internal state of an object while bundling attributes and methods within a single unit. It helps in wrapping data and methods together, restricting direct access to internal details. Using public, private, and protected access modifiers, encapsulation ensures data security, modularity, and controlled access through getter and setter methods. This technique enhances data abstraction and restricts unauthorized access to a class’s internal operations.\n"
      ],
      "metadata": {
        "id": "iqPz2ye6VhFn"
      }
    },
    {
      "cell_type": "markdown",
      "source": [
        " 9. What is a constructor in Python?\n",
        "\n",
        " A constructor in Python is a special method that is automatically called when an instance (object) of a class is created. The primary purpose of a constructor is to initialize the attributes of the object. In Python, the constructor method is defined using the __init__() method.\n"
      ],
      "metadata": {
        "id": "59BNC837_42S"
      }
    },
    {
      "cell_type": "markdown",
      "source": [
        "10.  What are class and static methods in Python ?\n",
        "\n",
        "- A class method takes cls as the first parameter while a static method needs no specific parameters.\n",
        "- A class method can access or modify the class state while a static method can't access or modify it.\n",
        "- In general, static methods know nothing about the class state. They are utility-type methods that take some parameters and work upon those parameters. On the other hand class methods must have class as a parameter.\n",
        "- We use @classmethod decorator in python to create a class method and we use @staticmethod decorator to create a static method in python.\n"
      ],
      "metadata": {
        "id": "uDxvOQM8SxBB"
      }
    },
    {
      "cell_type": "markdown",
      "source": [
        "11.  What is method overloading in Python ?\n",
        "\n",
        "- Method overloading is a feature of object-oriented programming where a class can have multiple methods with the same name but different parameters. To overload method, we must change the number of parameters or the type of parameters, or both.\n"
      ],
      "metadata": {
        "id": "iRMeK2I3Z6R5"
      }
    },
    {
      "cell_type": "markdown",
      "source": [
        "12.  What is method overriding in OOP ?\n",
        "\n",
        "- Method overriding is a concept in object-oriented programming that allows a subclass to provide a specific implementation of a method that is already defined in its superclass. This is a fundamental feature in Python that enables polymorphism, where the same method can behave differently based on the object that invokes it.\n"
      ],
      "metadata": {
        "id": "YN0Z6oZv02rK"
      }
    },
    {
      "cell_type": "markdown",
      "source": [
        "13.  What is a property decorator in Python ?\n",
        "\n",
        "- Method overriding is a concept in object-oriented programming that allows a subclass to provide a specific implementation of a method that is already defined in its superclass. This is a fundamental feature in Python that enables polymorphism, where the same method can behave differently based on the object that invokes it.\n",
        "\n",
        "- Method overriding is widely used in real-world applications to modify or extend the behavior of inherited methods. It allows subclasses to:\n",
        "\n",
        "Implement abstract methods defined in abstract base classes.\n",
        "\n",
        "Customize functionality provided by a framework or library.\n",
        "\n",
        "Provide different implementations of a method based on different use cases.\n"
      ],
      "metadata": {
        "id": "PldmlGmn1H4X"
      }
    },
    {
      "cell_type": "markdown",
      "source": [
        "14.  Why is polymorphism important in OOP ?\n",
        "\n",
        "- Polymorphism is used in OOP to allow developers to write more efficient code and redefine methods for derived classes.\n",
        "\n",
        "- It gives the ability to write more efficient code and redefine methods for derived classes, which makes polymorphism a must-learn concept in OOP.\n"
      ],
      "metadata": {
        "id": "A4Lblgg83Y4A"
      }
    },
    {
      "cell_type": "markdown",
      "source": [
        "15.  What is an abstract class in Python ?\n",
        "\n",
        "- The abstract classes in Python can define an __init__ method. The __init__ method in an abstract class is a concrete method that can be used to initialize attributes or perform setup tasks common to all subclasses.\n"
      ],
      "metadata": {
        "id": "6fRkKCUlvIPP"
      }
    },
    {
      "cell_type": "markdown",
      "source": [
        "16.  What are the advantages of OOP ?\n",
        "\n",
        "- We can build the programs from standard working modules that communicate with one another, rather than having to start writing the code from scratch which leads to saving of development time and higher productivity,\n",
        "- OOP language allows to break the program into the bit-sized problems that can be solved easily (one object at a time).\n",
        "- The new technology promises greater programmer productivity, better quality of software and lesser maintenance cost.\n",
        "- OOP systems can be easily upgraded from small to large systems.\n",
        "- It is possible that multiple instances of objects co-exist without any interference.\n",
        "- It is very easy to partition the work in a project based on objects.\n",
        "- It is possible to map the objects in problem domain to those in the program.\n",
        "- The principle of data hiding helps the programmer to build secure programs which cannot be invaded by the code in other parts of the program.\n",
        "- By using inheritance, we can eliminate redundant code and extend the use of existing classes.\n",
        "- Message passing techniques is used for communication between objects which makes the interface descriptions with external systems much simpler.\n",
        "- The data-centered design approach enables us to capture more details of model in an implementable form.\n"
      ],
      "metadata": {
        "id": "gFQZb-JyvaLR"
      }
    },
    {
      "cell_type": "markdown",
      "source": [
        "17.  What is the difference between a class variable and an instance variable ?\n",
        "\n",
        "- Class variable is a variable that defines a specific attribute or property for a class. Instance variable is a variable whose value is instance-specific and now shared among instances.  \n",
        "\n",
        "- Class variables can be shared between class and its subclasses. Instance variables cannot be shared between classes. Instead, they only belong to one specific class.\n",
        "\n",
        "- Class variables are declared using the keyword static. Instance variables are declared without using the static keyword.\n",
        "\n",
        "\n"
      ],
      "metadata": {
        "id": "ik2USUFnwLko"
      }
    },
    {
      "cell_type": "markdown",
      "source": [
        "18.  What is multiple inheritance in Python ?\n",
        "\n",
        "- When a class is derived from more than one base class it is called multiple Inheritance. The derived class inherits all the features of the base case.\n"
      ],
      "metadata": {
        "id": "EcCv7WlM4ngi"
      }
    },
    {
      "cell_type": "markdown",
      "source": [
        "19.  Explain the purpose of ‘’__str__’ and ‘__repr__’ ‘ methods in Python\n",
        "\n",
        "- In Python, the str() and repr() functions are used to obtain string representations of objects. While they may seem similar at first glance, there are some differences in how they behave.\n",
        "\n",
        "- A user-defined class should also have a __repr__() if we need detailed information for debugging. And if we think it would be useful to have a string version for users, we create a __str__() function.\n",
        "\n",
        " - str() returns a human-readable string representation of the object. repr() returns an unambiguous string representation of the object.\n",
        "\n",
        " - str() is used for creating user-friendly output and for displaying the object as a string. repr() is used for debugging and development purposes to get the complete information of an object."
      ],
      "metadata": {
        "id": "fgQQzoO6QrOx"
      }
    },
    {
      "cell_type": "markdown",
      "source": [
        "20.  What is the significance of the ‘super()’ function in Python ?\n",
        "\n",
        "- The super() function in Python is a built-in utility that provides access to methods and properties of a parent or superclass. It is commonly used in object-oriented programming to enable method overriding and inheritance, allowing subclasses to extend or customize the behavior of their parent classes.\n"
      ],
      "metadata": {
        "id": "2yUcqd8nuXij"
      }
    },
    {
      "cell_type": "markdown",
      "source": [
        "21.  What is the significance of the __del__ method in Python ?\n",
        "\n",
        "- The __del__ method in Python is a special or \"magic\" method, also known as a destructor. It is automatically invoked when an object is about to be destroyed, typically when its reference count drops to zero. This method is useful for performing cleanup tasks such as releasing external resources like file handles, network connections, or database connections.\n"
      ],
      "metadata": {
        "id": "UxFGXjMOwIFP"
      }
    },
    {
      "cell_type": "markdown",
      "source": [
        "22.  What is the difference between @staticmethod and @classmethod in Python ?\n",
        "\n",
        "- A class method takes cls as the first parameter while a static method needs no specific parameters.\n",
        "- A class method can access or modify the class state while a static method can't access or modify it.\n",
        "- In general, static methods know nothing about the class state. They are utility-type methods that take some parameters and work upon those parameters. On the other hand class methods must have class as a parameter.\n",
        "- We use @classmethod decorator in python to create a class method and we use @staticmethod decorator to create a static method in python.\n"
      ],
      "metadata": {
        "id": "TblJ3N6axVBP"
      }
    },
    {
      "cell_type": "markdown",
      "source": [
        "23.  How does polymorphism work in Python with inheritance ?\n",
        "\n",
        "- Inheritance is an OOP concept where a class (child class) can acquire properties and behaviors (methods) from another class (parent class).\n",
        "\n",
        "This allows you to:\n",
        "\n",
        "Reuse existing code.\n",
        "\n",
        "Avoid duplication.\n",
        "\n",
        "Create a hierarchical class structure.\n",
        "\n",
        "- Polymorphism means “many forms.” In OOP, it refers to the ability of different classes to define methods with the same name but different behaviors.\n",
        "\n",
        "In Python, polymorphism is often achieved through method overriding or duck typing.\n",
        "\n",
        "- To see inheritance and polymorphism in action, let's look at some practical, real-world scenarios where these concepts shine:\n",
        "\n",
        "1. GUI Frameworks\n",
        "Graphical User Interface (GUI) frameworks often use inheritance and polymorphism. For instance, consider a base Widget class with child classes like Button, TextBox, and Label. Each subclass inherits from Widget and can override methods such as render() to display the widget differently on the screen.\n",
        "\n",
        "2. Payment Processing System\n",
        "In a payment processing system, you might have different types of payment methods such as CreditCard, PayPal, and BankTransfer. A base PaymentMethod class can define the structure, and subclasses can implement specific processing logic.\n",
        "\n",
        "3. Game Development\n",
        "In games, inheritance and polymorphism are commonly used to create entities with different behaviors. For example, a Character base class can have subclasses like Player, Enemy, and NPC, each implementing unique behaviors.\n",
        "\n",
        "4. File I/O System\n",
        "In applications dealing with multiple file formats, you can use inheritance and polymorphism to handle each format using a base FileHandler class. Subclasses like TextFileHandler, CSVFileHandler, and JSONFileHandler can each implement their own read() and write() methods.\n"
      ],
      "metadata": {
        "id": "LAP1hjq-xuDu"
      }
    },
    {
      "cell_type": "markdown",
      "source": [
        "24.  What is method chaining in Python OOP ?\n",
        "\n",
        "- Method chaining is a powerful technique in Python programming that allows us to call multiple methods on an object in a single, continuous line of code. This approach makes the code cleaner, more readable, and often easier to maintain.\n",
        "\n",
        "For Example:\n",
        "\n",
        "text = \" hello, gfg! \"\n",
        "result = text.strip().capitalize().replace(\"gfg\", \"GeeksForGeeks\")\n",
        "print(result)\n",
        "\n",
        "Output\n",
        "Hello, GeeksForGeeks!"
      ],
      "metadata": {
        "id": "j-i1rF43_K4q"
      }
    },
    {
      "cell_type": "markdown",
      "source": [
        "25.  What is the purpose of the __call__ method in Python?\n",
        "\n",
        "-  The __call__ magic method in Python allows instances of a class to behave like functions. When this method is implemented in a class, you can call an object of that class as if it were a function. This feature is particularly useful for creating callable objects, enabling more flexible and reusable code.\n",
        "\n",
        "class Example:\n",
        "def __call__(self, name):\n",
        "return f\"Hello, {name}!\"\n",
        "\n",
        "# Create an instance\n",
        "greet = Example()\n",
        "\n",
        "# Call the instance like a function\n",
        "print(greet(\"Alice\")) # Output: Hello, Alice!"
      ],
      "metadata": {
        "id": "WNctoqAnArJM"
      }
    },
    {
      "cell_type": "code",
      "source": [
        "#  1. Create a parent class Animal with a method speak() that prints a generic message. Create a child class Dog that overrides the speak() method to print \"Bark!\".\n",
        "\n",
        "# Parent class\n",
        "class Animal:\n",
        "    def speak(self):\n",
        "        print(\"This animal makes a sound\")\n",
        "\n",
        "# Child class\n",
        "class Dog(Animal):\n",
        "    def speak(self):\n",
        "        print(\"Bark!\")\n",
        "\n",
        "# Testing\n",
        "animal = Animal()\n",
        "animal.speak()\n",
        "\n",
        "dog = Dog()\n",
        "dog.speak()"
      ],
      "metadata": {
        "colab": {
          "base_uri": "https://localhost:8080/"
        },
        "id": "TktfWGjRBDtv",
        "outputId": "466bbe3c-50f6-4696-d0f2-346018a04016"
      },
      "execution_count": null,
      "outputs": [
        {
          "output_type": "stream",
          "name": "stdout",
          "text": [
            "This animal makes a sound\n",
            "Bark!\n"
          ]
        }
      ]
    },
    {
      "cell_type": "code",
      "source": [
        "# Write a program to create an abstract class Shape with a method area(). Derive classes Circle and Rectangle from it and implement the area() method in both.\n",
        "\n",
        "from abc import ABC, abstractmethod\n",
        "import math\n",
        "\n",
        "# Abstract class Shape\n",
        "class Shape(ABC):\n",
        "#abstractmethod\n",
        " def area(self): pass\n",
        "\n",
        "# Circle class inheriting from Shape\n",
        "class Circle(Shape):\n",
        " def __init__(self, radius): self.radius = radius\n",
        "\n",
        " def area(self): return math.pi * self.radius ** 2\n",
        "\n",
        "# Rectangle class inheriting from Shape\n",
        "class Rectangle(Shape):\n",
        " def __init__(self, width, height):\n",
        "  self.width = width\n",
        "  self.height = height\n",
        "\n",
        " def area(self): return self.width * self.height\n",
        "\n",
        "# Testing the implementation\n",
        "if __name__ == \"__main__\":\n",
        " circle = Circle(5)\n",
        "rectangle = Rectangle(4, 6)\n",
        "\n",
        "print(f\"Area of Circle with radius 5: {circle.area():.2f}\")\n",
        "print(f\"Area of Rectangle with width 4 and height 6: {rectangle.area()}\")"
      ],
      "metadata": {
        "colab": {
          "base_uri": "https://localhost:8080/"
        },
        "id": "XPZhOa_AMJ4Z",
        "outputId": "aa2fdd93-3c65-42cf-9142-269b1bfc2d01"
      },
      "execution_count": null,
      "outputs": [
        {
          "output_type": "stream",
          "name": "stdout",
          "text": [
            "Area of Circle with radius 5: 78.54\n",
            "Area of Rectangle with width 4 and height 6: 24\n"
          ]
        }
      ]
    },
    {
      "cell_type": "code",
      "source": [
        "# Implement a multi-level inheritance scenario where a class Vehicle has an attribute type. Derive a class Car and further derive a class ElectricCar that adds a battery attribute\n",
        "\n",
        "# Base class\n",
        "class Vehicle:\n",
        " def __init__(self, vehicle_type):\n",
        "  self.type = vehicle_type\n",
        "\n",
        " def display_type(self):\n",
        "  print(f\"Vehicle Type: {self.type}\")\n",
        "\n",
        "# Derived class\n",
        "class Car(Vehicle):\n",
        "  def __init__(self, vehicle_type, brand):\n",
        "    super().__init__(vehicle_type)\n",
        "    self.brand = brand\n",
        "\n",
        "  def display_car_info(self):\n",
        "    print(f\"Car Brand: {self.brand}\")\n",
        "\n",
        "  # Further derived class\n",
        "class ElectricCar(Car):\n",
        "  def __init__(self, vehicle_type, brand, battery_capacity):\n",
        "    super().__init__(vehicle_type, brand)\n",
        "    self.battery = battery_capacity\n",
        "\n",
        "  def display_electric_car_info(self):\n",
        "    print(f\"Battery Capacity: {self.battery} kWh\")\n",
        "\n",
        "# Example usage\n",
        "electric_car = ElectricCar(\"Electric\", \"Tesla\", 75)\n",
        "electric_car.display_type() # From Vehicle class\n",
        "electric_car.display_car_info() # From Car class\n",
        "electric_car.display_electric_car_info() # From ElectricCar class\n",
        "\n",
        "\n"
      ],
      "metadata": {
        "colab": {
          "base_uri": "https://localhost:8080/"
        },
        "id": "nSKZLYKSnmvC",
        "outputId": "bf6c8fe4-d3eb-4512-cbc5-b63bc422a6e3"
      },
      "execution_count": null,
      "outputs": [
        {
          "output_type": "stream",
          "name": "stdout",
          "text": [
            "Vehicle Type: Electric\n",
            "Car Brand: Tesla\n",
            "Battery Capacity: 75 kWh\n"
          ]
        }
      ]
    },
    {
      "cell_type": "code",
      "source": [
        "# Demonstrate polymorphism by creating a base class Bird with a method fly(). Create two derived classes Sparrow and Penguin that override the fly() method.\n",
        "\n",
        "# Base class\n",
        "class Bird:\n",
        "    def fly(self):\n",
        "        print(\"Birds can generally fly.\")\n",
        "\n",
        "# Derived class 1\n",
        "class Sparrow(Bird):\n",
        "    def fly(self):\n",
        "        print(\"Sparrows fly swiftly and gracefully.\")\n",
        "\n",
        "# Derived class 2\n",
        "class Penguin(Bird):\n",
        "    def fly(self):\n",
        "        print(\"Penguins cannot fly, but they swim excellently.\")\n",
        "\n",
        "# Demonstrating polymorphism\n",
        "def demonstrate_flying(bird):\n",
        "    bird.fly()\n",
        "\n",
        "# Creating objects of each class\n",
        "generic_bird = Bird()\n",
        "sparrow = Sparrow()\n",
        "penguin = Penguin()\n",
        "\n",
        "# Using the same method to demonstrate polymorphism\n",
        "demonstrate_flying(generic_bird)\n",
        "demonstrate_flying(sparrow)\n",
        "demonstrate_flying(penguin)"
      ],
      "metadata": {
        "colab": {
          "base_uri": "https://localhost:8080/"
        },
        "id": "FjVDIL6kTML9",
        "outputId": "be04a826-c55a-450f-e856-f0c617d50667"
      },
      "execution_count": null,
      "outputs": [
        {
          "output_type": "stream",
          "name": "stdout",
          "text": [
            "Birds can generally fly.\n",
            "Sparrows fly swiftly and gracefully.\n",
            "Penguins cannot fly, but they swim excellently.\n"
          ]
        }
      ]
    },
    {
      "cell_type": "code",
      "source": [
        "# Write a program to demonstrate encapsulation by creating a class BankAccount with private attributes balance and methods to deposit, withdraw, and check balance.\n",
        "\n",
        "class BankAccount:\n",
        "    def __init__(self):\n",
        "        self.balance = 0  # Initialize balance to 0\n",
        "        print(\"Welcome to the Machine\")\n",
        "\n",
        "    def deposit(self):\n",
        "        amount = float(input(\"Enter amount to be Deposited: \"))\n",
        "        self.balance += amount\n",
        "        print(\"\\nAmount Deposited:\", amount)\n",
        "\n",
        "    def withdraw(self):\n",
        "        amount = float(input(\"Enter amount to be Withdrawn: \"))\n",
        "        if self.balance >= amount:\n",
        "            self.balance -= amount\n",
        "            print(\"\\nYou Withdrew:\", amount)\n",
        "        else:\n",
        "            print(\"\\nInsufficient balance\")\n",
        "\n",
        "    def display(self):\n",
        "        print(\"\\nNet Available Balance =\", self.balance)"
      ],
      "metadata": {
        "id": "cX8PLGfIVQ5z"
      },
      "execution_count": null,
      "outputs": []
    },
    {
      "cell_type": "code",
      "source": [
        "# Demonstrate runtime polymorphism using a method play() in a base class Instrument. Derive classes Guitar and Piano that implement their own version of play().\n",
        "\n",
        "# Base class\n",
        "class Instrument:\n",
        "   def play(self):\n",
        "       print(\"Playing an instrument\")\n",
        "# Derived class: Guitar\n",
        "class Guitar(Instrument):\n",
        "   def play(self):\n",
        "       print(\"Playing guitar\")\n",
        "# Derived class: Piano\n",
        "class Piano(Instrument):\n",
        "   def play(self):\n",
        "       print(\"Playing piano\")\n",
        "# Demonstrating runtime polymorphism\n",
        "instruments = [Guitar(), Piano()]\n",
        "for instrument in instruments:\n",
        "   instrument.play()"
      ],
      "metadata": {
        "colab": {
          "base_uri": "https://localhost:8080/"
        },
        "id": "KFuoVzuxW3xX",
        "outputId": "4a013271-6751-4a88-fea6-23b73a6728cc"
      },
      "execution_count": null,
      "outputs": [
        {
          "output_type": "stream",
          "name": "stdout",
          "text": [
            "Playing guitar\n",
            "Playing piano\n"
          ]
        }
      ]
    },
    {
      "cell_type": "code",
      "source": [
        "# Create a class MathOperations with a class method add_numbers() to add two numbers and a static method subtract_numbers() to subtract two numbers\n",
        "\n",
        "class MathOperations:\n",
        "      @classmethod\n",
        "      def add_numbers(cls, a, b):\n",
        "        return a + b\n",
        "\n",
        "      @staticmethod\n",
        "      def subtract_numbers(a, b):\n",
        "        return a - b\n",
        "\n",
        "print(MathOperations.add_numbers(5, 1))\n",
        "print(MathOperations.subtract_numbers(9, 4))"
      ],
      "metadata": {
        "colab": {
          "base_uri": "https://localhost:8080/"
        },
        "id": "Nll4hdV2Z3HP",
        "outputId": "9e16c82a-9b08-4246-ea55-fb72e0c32c4a"
      },
      "execution_count": null,
      "outputs": [
        {
          "output_type": "stream",
          "name": "stdout",
          "text": [
            "6\n",
            "5\n"
          ]
        }
      ]
    },
    {
      "cell_type": "code",
      "source": [
        "#  Implement a class Person with a class method to count the total number of persons created.\n",
        "\n",
        "class Person:\n",
        "   # Class variable to count the number of instances\n",
        "   total_count = 0\n",
        "   def __init__(self, name):\n",
        "       self.name = name\n",
        "       # Increment the counter whenever a new instance is created\n",
        "       Person.total_count += 1\n",
        "   @classmethod\n",
        "   def get_total_count(cls):\n",
        "       \"\"\"Class method to return the total number of instances.\"\"\"\n",
        "       return cls.total_count\n",
        "# Example usage\n",
        "p1 = Person(\"Meera\")\n",
        "p2 = Person(\"Harsh\")\n",
        "print(f\"Total persons created: {Person.get_total_count()}\")"
      ],
      "metadata": {
        "colab": {
          "base_uri": "https://localhost:8080/"
        },
        "id": "khjG6TgcZPlr",
        "outputId": "f480009c-d28d-4f1f-ff3b-72a74dc10930"
      },
      "execution_count": null,
      "outputs": [
        {
          "output_type": "stream",
          "name": "stdout",
          "text": [
            "Total persons created: 2\n"
          ]
        }
      ]
    },
    {
      "cell_type": "code",
      "source": [
        "# Write a class Fraction with attributes numerator and denominator. Override the str method to display the fraction as \"numerator/denominator\".\n",
        "class Fraction:\n",
        "    def __init__(self, numerator, denominator):\n",
        "        self.numerator = numerator\n",
        "        self.denominator = denominator\n",
        "\n",
        "    def __str__(self):\n",
        "        return f\"{self.numerator}/{self.denominator}\"\n",
        "\n",
        "# Example usage\n",
        "f = Fraction(1, 4)\n",
        "print(f)"
      ],
      "metadata": {
        "colab": {
          "base_uri": "https://localhost:8080/"
        },
        "id": "jIeD4uiaaezr",
        "outputId": "adcdc36f-e7d5-462a-f75b-97453d1c1c85"
      },
      "execution_count": null,
      "outputs": [
        {
          "output_type": "stream",
          "name": "stdout",
          "text": [
            "1/4\n"
          ]
        }
      ]
    },
    {
      "cell_type": "code",
      "source": [
        "# Demonstrate operator overloading by creating a class Vector and overriding the add method to add two vectors.\n",
        "class Vector:\n",
        "    def __init__(self, x, y):\n",
        "        self.x = x\n",
        "        self.y = y\n",
        "\n",
        "    def __add__(self, other):\n",
        "        return Vector(self.x + other.x, self.y + other.y)\n",
        "\n",
        "    def __str__(self):\n",
        "        return f\"Vector({self.x}, {self.y})\"\n",
        "\n",
        "# Example usage\n",
        "v1 = Vector(2, 3)\n",
        "v2 = Vector(4, 5)\n",
        "v3 = v1 + v2\n",
        "\n",
        "print(v3)"
      ],
      "metadata": {
        "colab": {
          "base_uri": "https://localhost:8080/"
        },
        "id": "grpFMhZjfwuP",
        "outputId": "5aa82b41-200a-4ba7-e9bf-3bbde20fd4af"
      },
      "execution_count": null,
      "outputs": [
        {
          "output_type": "stream",
          "name": "stdout",
          "text": [
            "Vector(6, 8)\n"
          ]
        }
      ]
    },
    {
      "cell_type": "code",
      "source": [
        " #Create a class Person with attributes name and age. Add a method greet() that prints \"Hello, my name is {name} and I am {age} years old.\"\n",
        " class Person:\n",
        "    def __init__(self, name, age):\n",
        "        self.name = name\n",
        "        self.age = age\n",
        "\n",
        "    def greet(self):\n",
        "        print(f\"Hello, my name is {self.name} and I am {self.age} years old.\")\n",
        "\n",
        "# Example usage\n",
        "p = Person(\"Meera\", 37)\n",
        "p.greet()"
      ],
      "metadata": {
        "colab": {
          "base_uri": "https://localhost:8080/"
        },
        "id": "i0cswltjlG_w",
        "outputId": "fbcfebe7-6860-4152-f468-7e6f8deb9998"
      },
      "execution_count": null,
      "outputs": [
        {
          "output_type": "stream",
          "name": "stdout",
          "text": [
            "Hello, my name is Meera and I am 37 years old.\n"
          ]
        }
      ]
    },
    {
      "cell_type": "code",
      "source": [
        "# Implement a class Student with attributes name and grades. Create a method average_grade() to compute the average of the grades.\n",
        "class Student:\n",
        "    def __init__(self, name, grades):\n",
        "        self.name = name\n",
        "        self.grades = grades  # List of grades\n",
        "\n",
        "    def average_grade(self):\n",
        "        if self.grades:\n",
        "            return sum(self.grades) / len(self.grades)\n",
        "        else:\n",
        "            return 0.0\n",
        "\n",
        "# Example usage\n",
        "s = Student(\"Meera\", [92, 68, 88, 72])\n",
        "print(f\"{s.name}'s average grade is: {s.average_grade():.2f}\")\n",
        "\n"
      ],
      "metadata": {
        "colab": {
          "base_uri": "https://localhost:8080/"
        },
        "id": "2zCxKJqgl1iN",
        "outputId": "59da1231-fb35-4b34-dd1a-c47fdff28247"
      },
      "execution_count": null,
      "outputs": [
        {
          "output_type": "stream",
          "name": "stdout",
          "text": [
            "Meera's average grade is: 80.00\n"
          ]
        }
      ]
    },
    {
      "cell_type": "code",
      "source": [
        "# Create a class Rectangle with methods set_dimensions() to set the dimensions and area() to calculate the area.\n",
        "class Rectangle:\n",
        "    def __init__(self):\n",
        "        self.length = 0\n",
        "        self.width = 0\n",
        "\n",
        "    def set_dimensions(self, length, width):\n",
        "        self.length = length\n",
        "        self.width = width\n",
        "\n",
        "    def area(self):\n",
        "        return self.length * self.width\n",
        "\n",
        "# Example usage\n",
        "rect = Rectangle()\n",
        "rect.set_dimensions(6, 9)\n",
        "print(\"Area of rectangle:\", rect.area())"
      ],
      "metadata": {
        "colab": {
          "base_uri": "https://localhost:8080/"
        },
        "id": "iU8zf0pV8bg8",
        "outputId": "553646d7-ce77-45af-d88f-1aaadb66e31e"
      },
      "execution_count": null,
      "outputs": [
        {
          "output_type": "stream",
          "name": "stdout",
          "text": [
            "Area of rectangle: 54\n"
          ]
        }
      ]
    },
    {
      "cell_type": "code",
      "source": [
        "# Create a class Employee with a method calculate_salary() that computes the salary based on hours worked and hourly rate. Create a derived class Manager that adds a bonus to the salary.\n",
        "class Employee:\n",
        "    def __init__(self, hours_worked, hourly_rate):\n",
        "        self.hours_worked = hours_worked\n",
        "        self.hourly_rate = hourly_rate\n",
        "\n",
        "    def calculate_salary(self):\n",
        "        return self.hours_worked * self.hourly_rate\n",
        "\n",
        "# Derived class\n",
        "class Manager(Employee):\n",
        "    def __init__(self, hours_worked, hourly_rate, bonus):\n",
        "        super().__init__(hours_worked, hourly_rate)\n",
        "        self.bonus = bonus\n",
        "\n",
        "    def calculate_salary(self):\n",
        "        base_salary = super().calculate_salary()\n",
        "        return base_salary + self.bonus\n",
        "\n",
        "# Example usage\n",
        "emp = Employee(40, 15000)\n",
        "print(\"Employee Salary:\", emp.calculate_salary())\n",
        "\n",
        "mgr = Manager(40, 15000, 500)\n",
        "print(\"Manager Salary:\", mgr.calculate_salary())"
      ],
      "metadata": {
        "colab": {
          "base_uri": "https://localhost:8080/"
        },
        "id": "SD887KEO8xh7",
        "outputId": "ddca3721-d78b-4414-f73b-6fca7b8a2a20"
      },
      "execution_count": null,
      "outputs": [
        {
          "output_type": "stream",
          "name": "stdout",
          "text": [
            "Employee Salary: 600000\n",
            "Manager Salary: 600500\n"
          ]
        }
      ]
    },
    {
      "cell_type": "code",
      "source": [
        "# Create a class Product with attributes name, price, and quantity. Implement a method total_price() that calculates the total price of the product.\n",
        "class Product:\n",
        "    def __init__(self, name, price, quantity):\n",
        "        self.name = name\n",
        "        self.price = price\n",
        "        self.quantity = quantity\n",
        "\n",
        "    def total_price(self):\n",
        "        return self.price * self.quantity\n",
        "\n",
        "  # Example usage\n",
        "item = Product(\"Gold\", 5000000, 3)\n",
        "print(f\"Total price for {item.name}: Rs. {item.total_price()}\")"
      ],
      "metadata": {
        "colab": {
          "base_uri": "https://localhost:8080/"
        },
        "id": "kkWY7TQIUoFh",
        "outputId": "0c7c53cd-3271-4fe9-fe8e-e31820e82322"
      },
      "execution_count": null,
      "outputs": [
        {
          "output_type": "stream",
          "name": "stdout",
          "text": [
            "Total price for Gold: Rs. 15000000\n"
          ]
        }
      ]
    },
    {
      "cell_type": "code",
      "source": [
        "# Create a class Animal with an abstract method sound(). Create two derived classes Cow and Sheep that implement the sound() method.\n",
        "from abc import ABC, abstractmethod\n",
        "\n",
        "# Abstract base class\n",
        "class Animal(ABC):\n",
        "    @abstractmethod\n",
        "    def sound(self):\n",
        "        pass\n",
        "\n",
        "# Derived class: Cow\n",
        "class Cow(Animal):\n",
        "    def sound(self):\n",
        "        print(\"Cow says Mooh\")\n",
        "\n",
        "# Derived class: Sheep\n",
        "class Sheep(Animal):\n",
        "    def sound(self):\n",
        "        print(\"Sheep says Baah\")\n",
        "\n",
        "# Example usage\n",
        "cow = Cow()\n",
        "sheep = Sheep()\n",
        "\n",
        "cow.sound()\n",
        "sheep.sound()"
      ],
      "metadata": {
        "colab": {
          "base_uri": "https://localhost:8080/"
        },
        "id": "8gEEs2u4d-gl",
        "outputId": "64d3eca0-43c5-4a68-9945-192f5edd50e7"
      },
      "execution_count": null,
      "outputs": [
        {
          "output_type": "stream",
          "name": "stdout",
          "text": [
            "Cow says Mooh\n",
            "Sheep says Baah\n"
          ]
        }
      ]
    },
    {
      "cell_type": "code",
      "source": [
        "# Create a class Book with attributes title, author, and year_published. Add a method get_book_info() that returns a formatted string with the book's details\n",
        "class Book:\n",
        "    def __init__(self, title, author, year_published):\n",
        "        self.title = title\n",
        "        self.author = author\n",
        "        self.year_published = year_published\n",
        "\n",
        "    def get_book_info(self):\n",
        "        return f\"'{self.title}' by {self.author}, published in {self.year_published}\"\n",
        "\n",
        "# Example usage\n",
        "book = Book(\"All about love\", \"Meera Sardar\", 2024)\n",
        "print(book.get_book_info())"
      ],
      "metadata": {
        "colab": {
          "base_uri": "https://localhost:8080/"
        },
        "id": "LSZStuldjtX-",
        "outputId": "ee60f226-9ce1-4c4c-e102-35db9fd9b01a"
      },
      "execution_count": null,
      "outputs": [
        {
          "output_type": "stream",
          "name": "stdout",
          "text": [
            "'All about love' by Meera Sardar, published in 2024\n"
          ]
        }
      ]
    },
    {
      "cell_type": "code",
      "source": [
        "# Create a class House with attributes address and price. Create a derived class Mansion that adds an attribute number_of_rooms.\n",
        "\n",
        "# Base class\n",
        "class House:\n",
        "    def __init__(self, address, price):\n",
        "        self.address = address\n",
        "        self.price = price\n",
        "\n",
        "# Derived class\n",
        "class Mansion(House):\n",
        "    def __init__(self, address, price, number_of_rooms):\n",
        "        super().__init__(address, price)\n",
        "        self.number_of_rooms = number_of_rooms\n",
        "\n",
        "# Example usage\n",
        "m = Mansion(\"PO Box 2400, Frankfurt, Germany\", 2400000000000, 6)\n",
        "print(f\"Address: {m.address}, Price: Rs. {m.price}, Rooms: {m.number_of_rooms}\")"
      ],
      "metadata": {
        "colab": {
          "base_uri": "https://localhost:8080/"
        },
        "id": "2rMq0euTlriT",
        "outputId": "16854d8f-4819-44d0-c008-c50242a64053"
      },
      "execution_count": null,
      "outputs": [
        {
          "output_type": "stream",
          "name": "stdout",
          "text": [
            "Address: PO Box 2400, Frankfurt, Germany, Price: Rs. 2400000000000, Rooms: 6\n"
          ]
        }
      ]
    }
  ]
}