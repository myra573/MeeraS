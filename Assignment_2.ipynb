{
  "nbformat": 4,
  "nbformat_minor": 0,
  "metadata": {
    "colab": {
      "provenance": []
    },
    "kernelspec": {
      "name": "python3",
      "display_name": "Python 3"
    },
    "language_info": {
      "name": "python"
    }
  },
  "cells": [
    {
      "cell_type": "code",
      "execution_count": null,
      "metadata": {
        "id": "4BN0tOWvmYG2"
      },
      "outputs": [],
      "source": []
    },
    {
      "cell_type": "markdown",
      "source": [
        " What are data structures, and why are they important?\n",
        "\n",
        "A data structure is a collection of data values and the relationships between them. Data structures allow programs to store and process data effectively. There are many different data structures, each with its own advantages and disadvantages. Some of the most common data structures are arrays, lists, trees, and graphs."
      ],
      "metadata": {
        "id": "8iB-tma1lN_U"
      }
    },
    {
      "cell_type": "markdown",
      "source": [
        " Explain the difference between mutable and immutable data types with examples?\n",
        " Data types that can be modified after creation are mutable data types and those that cannot be modified are immutable data types. List is a mutable data type, below is example:\n",
        "\n",
        " my_list = [1, 2, 3]\n",
        "my_list.append(4) # Modifies the list in place\n",
        "print(my_list) # Output: [1, 2, 3, 4] # so i was able to add value even after the list was created\n",
        "\n",
        "Tuple is an immutable data type, below is example:\n",
        "\n",
        "my_tuple = (1, 2, 3)\n",
        "new_tuple = my_tuple + (4,) # Creates a new tuple\n",
        "print(new_tuple) # Output: (1, 2, 3, 4) # i had to create a new tuple to add a new value, could not just append it\n",
        "\n"
      ],
      "metadata": {
        "id": "r3G-xVm8oLL1"
      }
    },
    {
      "cell_type": "markdown",
      "source": [],
      "metadata": {
        "id": "B5Dmjl22maNq"
      }
    },
    {
      "cell_type": "code",
      "source": [],
      "metadata": {
        "id": "VFLnTh0UmfJZ"
      },
      "execution_count": null,
      "outputs": []
    },
    {
      "cell_type": "markdown",
      "source": [
        " What are the main differences between lists and tuples in Python?\n",
        "\n",
        " Main differences between list and tuple are as follows:\n",
        " - list is mutable, tuple is immutable\n",
        " - We use square brackets for a list and parenthesis for a tuple\n",
        " - Lists are more prone to changes and errors compared to tuples\n",
        " - Lists have several built in methods and tuples have fewer\n",
        " - Lists consume more meory than tuples\n",
        " - Lists are better at performing operations like insertion and deletion and tuples for accessing element efficiency\n",
        " - Iteration is time consuming for lists and faster for tuples\n",
        "\n",
        "\n",
        "\n",
        "\n",
        "\n"
      ],
      "metadata": {
        "id": "ysHACtGkmfpo"
      }
    },
    {
      "cell_type": "markdown",
      "source": [
        "Describe how dictionaries store data ?\n",
        "Each item stored in a dictionary is represented by a key-value pair. Key is used to access the elements in the dictionary. With the key we can access value which has more information about the element."
      ],
      "metadata": {
        "id": "HzjRLlshXhYc"
      }
    },
    {
      "cell_type": "markdown",
      "source": [
        " Why might you use a set instead of a list in Python?\n",
        " Because set contains only unique elements, automatically removing duplicates. While list contains duplicate elements.Sets support mathematical operations like union, intersection, and difference.\n"
      ],
      "metadata": {
        "id": "0MkZnISmiWN0"
      }
    },
    {
      "cell_type": "markdown",
      "source": [
        " What is a string in Python, and how is it different from a list?\n",
        "\n",
        " String is a sequence of characters like letters, numbers and special characters. Strings are immutable. Character, integer and letter strings have to be created seperately.\n",
        "\n",
        "  Lists are one of the most powerful data structures in python. Lists are mutable. Two different strings can be appended and made into a list. List is a collection of items that can include different data types.\n",
        "\n"
      ],
      "metadata": {
        "id": "X9m_IfV4jKAG"
      }
    },
    {
      "cell_type": "markdown",
      "source": [
        " How do tuples ensure data integrity in Python?\n",
        "  Tuples ensure data integrity in python because of their following features -\n",
        "\n",
        "  1. Immutable - they cannot be modified added or removed so data remains consistent and unaltered\n",
        "  2. Hashability - they can be used as keys in disctionaries or elements in sets\n",
        "  3. Predictability - immutability eliminates risk of accidental changes in important scenarios like multi thread applications or passing data between functions\n",
        "  4. They are more memory efficient\n"
      ],
      "metadata": {
        "id": "MqFeWqVjlape"
      }
    },
    {
      "cell_type": "markdown",
      "source": [
        " What is a hash table, and how does it relate to dictionaries in Python ?\n",
        "\n",
        " Dictionary consists of key- value pair. A hash table is a specific way to implement a dictionary.\n",
        "\n",
        " A dictionary is a data structure that maps keys to values. A hash table is a data structure that maps keys to values by taking the hash value of the key and mapping that to a bucket where one or more values are stored.\n",
        "\n",
        " We can access data faster with help of hash table.\n",
        "\n",
        " Dictionary is implemented using hash tables. In my opinion the difference between the 2 can be thought of as the difference between Stacks and Arrays where we would be using arrays to implement Stacks.\n",
        "\n",
        "\n"
      ],
      "metadata": {
        "id": "JGL7ilodDvjs"
      }
    },
    {
      "cell_type": "markdown",
      "source": [
        " Can lists contain different data types in Python ?\n",
        "\n",
        " Python lists are highly flexible and can store a mix of integers, strings, floats, booleans, other lists, dictionaries, or even custom objects. This dynamic nature makes them versatile for various use cases.\n"
      ],
      "metadata": {
        "id": "9VAKmL0UGpIU"
      }
    },
    {
      "cell_type": "markdown",
      "source": [
        " Explain why strings are immutable in Python ?\n",
        "\n",
        " Python strings are immutable so that their hash value can be cached and to enable safe, efficient use as dict/set keys.\n"
      ],
      "metadata": {
        "id": "ZANToY1vIfZs"
      }
    },
    {
      "cell_type": "markdown",
      "source": [
        " What advantages do dictionaries offer over lists for certain tasks ?\n",
        "\n",
        " A key advantage of using dictionaries over lists in Python is their efficiency in searching and accessing elements. Its easier to retrieve values using key in dictionary.\n",
        "\n",
        " Dictionaries are ideal for scenarios where fast lookups are critical, such as managing configurations, caching, or mapping relationships. Lists, on the other hand, are better suited for sequential data or when order matters.\n"
      ],
      "metadata": {
        "id": "K3O7Le5qI8N_"
      }
    },
    {
      "cell_type": "markdown",
      "source": [
        " Describe a scenario where using a tuple would be preferable over a list ?\n",
        "\n",
        " Tuples are preferred over lists in the following cases:\n",
        "\n",
        "1. When we want to ensure that data is not changed accidentally. Tuples being immutable do not allow any changes in its data.\n",
        "2. When we want faster access to data that will not change as tuples are faster than lists.\n",
        "3. When we want to use the data as a key in a dictionary. Tuples can be used as keys in a dictionary, but lists cannot.\n",
        "4. When we want to use the data as an element of a set. Tuples can be used as elements of a set, but lists cannot.\n"
      ],
      "metadata": {
        "id": "rAaesISJNMDJ"
      }
    },
    {
      "cell_type": "markdown",
      "source": [
        " How do sets handle duplicate values in Python ?\n",
        "\n",
        " Sets cannot store duplicate elements. If you assign several identical elements to a set, they will be removed during output:\n",
        "\n",
        "st = {1, 1, 2, 2, 3, 4, 5}\n",
        "print(st) # {1, 2, 3, 4, 5}\n",
        "\n",
        "\n"
      ],
      "metadata": {
        "id": "cg4e9Wbn7MaN"
      }
    },
    {
      "cell_type": "markdown",
      "source": [
        " How does the “in” keyword work differently for lists and dictionaries ?\n",
        "\n",
        " When used with a list, the in keyword checks if a value exists within the list. This operation involves iterating through the list sequentially and comparing each element with the target value.\n",
        "\n",
        " When used with a dictionary, the in keyword checks for the presence of a key, not a value.\n"
      ],
      "metadata": {
        "id": "R2li1C7JOEOb"
      }
    },
    {
      "cell_type": "markdown",
      "source": [
        " Can you modify the elements of a tuple? Explain why or why not ?\n",
        "\n",
        " Tuples in Python are immutable, meaning their elements cannot be changed directly. However, you can create a new tuple with the desired changes.\n"
      ],
      "metadata": {
        "id": "S8V2hDMLY3vz"
      }
    },
    {
      "cell_type": "markdown",
      "source": [
        " What is a nested dictionary, and give an example of its use case?\n",
        "\n",
        " A nested dictionary in Python is a dictionary inside another dictionary. This allows you to store complex data structures in a single dictionary. Each key in the outer dictionary can map to another dictionary, enabling hierarchical data storage.\n",
        "\n",
        " You can create a nested dictionary by placing dictionaries within a dictionary. Here's an example:\n",
        "\n",
        "people = {\n",
        "1: {'name': 'John', 'age': '27', 'sex': 'Male'},\n",
        "2: {'name': 'Marie', 'age': '22', 'sex': 'Female'}\n",
        "}\n",
        "print(people)\n",
        "Copy\n",
        "This will output:\n",
        "\n",
        "{1: {'name': 'John', 'age': '27', 'sex': 'Male'}, 2: {'name': 'Marie', 'age': '22', 'sex': 'Female'}}\n"
      ],
      "metadata": {
        "id": "pfopeAAWZBmY"
      }
    },
    {
      "cell_type": "markdown",
      "source": [
        " Describe the time complexity of accessing elements in a dictionary ?\n",
        "\n",
        " Python dictionaries are implemented as hash tables, making them highly efficient for key-based operations. The average time complexity for accessing a value by its key is O(1). This efficiency is due to the hash function, which maps keys to specific memory locations, allowing for constant-time lookups.\n",
        "\n",
        " Example\n",
        "\n",
        "# Accessing a dictionary key\n",
        "my_dict = {'a': 1, 'b': 2, 'c': 3}\n",
        "value = my_dict['b'] # O(1)\n",
        "print(value) # Output: 2\n"
      ],
      "metadata": {
        "id": "PsD_8_XcZ2rr"
      }
    },
    {
      "cell_type": "markdown",
      "source": [
        " In what situations are lists preferred over dictionaries ?\n",
        "\n",
        " For sequential access and storage efficiency, lists are preferable.\n"
      ],
      "metadata": {
        "id": "qpbidJ09aajQ"
      }
    },
    {
      "cell_type": "markdown",
      "source": [
        " Why are dictionaries considered unordered, and how does that affect data retrieval ?\n",
        "\n",
        " Dictionaries in Python are often referred to as unordered collections because they do not guarantee any specific order of their elements based on insertion or key values. This characteristic stems from their underlying implementation as hash tables, which prioritize fast key-based lookups over maintaining order.\n"
      ],
      "metadata": {
        "id": "xAfHDQzjbGNc"
      }
    },
    {
      "cell_type": "markdown",
      "source": [
        " Explain the difference between a list and a dictionary in terms of data retrieval ?\n",
        "\n",
        " In Python, lists and dictionaries are two fundamental data structures that serve different purposes and have distinct characteristics.\n",
        "\n",
        " Elements in a List are accessed using indices and elements in a Dictionary are accessed using key-values.\n"
      ],
      "metadata": {
        "id": "3CANUSSPbeQv"
      }
    },
    {
      "cell_type": "code",
      "source": [
        "# Write a code to create a string with your name and print it\n",
        "my_name = \"Meera Sunil Sardar\"\n",
        "\n",
        "# Printing the string\n",
        "print(my_name)"
      ],
      "metadata": {
        "colab": {
          "base_uri": "https://localhost:8080/"
        },
        "id": "95MMQP14dONl",
        "outputId": "b0595e49-ba39-40f0-fae8-1f35622bfde1"
      },
      "execution_count": 1,
      "outputs": [
        {
          "output_type": "stream",
          "name": "stdout",
          "text": [
            "Meera Sunil Sardar\n"
          ]
        }
      ]
    },
    {
      "cell_type": "code",
      "source": [
        "#Write a code to find the length of the string \"Hello World\"\n",
        "\n",
        "string = \"Hello World\"\n",
        "length = len(string)\n",
        "print(\"The length of the string is:\", length)"
      ],
      "metadata": {
        "colab": {
          "base_uri": "https://localhost:8080/"
        },
        "id": "3IUP6noAegMT",
        "outputId": "16632b1e-a945-4383-a6df-32ec68085c9b"
      },
      "execution_count": 3,
      "outputs": [
        {
          "output_type": "stream",
          "name": "stdout",
          "text": [
            "The length of the string is: 11\n"
          ]
        }
      ]
    },
    {
      "cell_type": "code",
      "source": [
        " #Write a code to slice the first 3 characters from the string \"Python Programming\"\n",
        "\n",
        "  # Original string\n",
        "text = \"Python Programming\"\n",
        "\n",
        "# Slicing the first 3 characters\n",
        "sliced_text = text[:3]\n",
        "print(sliced_text)"
      ],
      "metadata": {
        "colab": {
          "base_uri": "https://localhost:8080/"
        },
        "id": "VRDNMFZGgbHJ",
        "outputId": "0820025b-3c8a-4adf-b4a9-b74d7a10ecbb"
      },
      "execution_count": 6,
      "outputs": [
        {
          "output_type": "stream",
          "name": "stdout",
          "text": [
            "Pyt\n"
          ]
        }
      ]
    },
    {
      "cell_type": "code",
      "source": [
        "# Write a code to convert the string \"hello\" to uppercase\n",
        "\n",
        "# Using the built-in upper() method\n",
        "string = \"hello\"\n",
        "uppercase_string = string.upper()\n",
        "print(uppercase_string)"
      ],
      "metadata": {
        "colab": {
          "base_uri": "https://localhost:8080/"
        },
        "id": "iYvbRUdxgmvb",
        "outputId": "1ccb5252-7611-4e7b-a665-d09ec8261371"
      },
      "execution_count": 7,
      "outputs": [
        {
          "output_type": "stream",
          "name": "stdout",
          "text": [
            "HELLO\n"
          ]
        }
      ]
    },
    {
      "cell_type": "code",
      "source": [
        "#  Write a code to replace the word \"apple\" with \"orange\" in the string \"I like apple\"\n",
        "\n",
        "# Original string\n",
        "text = \"apple\"\n",
        "\n",
        "# Replace \"apple\" with \"orange\"\n",
        "updated_text = text.replace(\"apple\", \"orange\")\n",
        "\n",
        "# Print the updated string\n",
        "print(updated_text)"
      ],
      "metadata": {
        "colab": {
          "base_uri": "https://localhost:8080/"
        },
        "id": "4815Xo1fg3ut",
        "outputId": "3593856d-3a36-40f2-dac9-b446e7d6dbf9"
      },
      "execution_count": 8,
      "outputs": [
        {
          "output_type": "stream",
          "name": "stdout",
          "text": [
            "orange\n"
          ]
        }
      ]
    },
    {
      "cell_type": "code",
      "source": [
        "# Write a code to create a list with numbers 1 to 5 and print it\n",
        "\n",
        "# Using range() and list()\n",
        "numbers = list(range(1, 6))\n",
        "print(numbers)"
      ],
      "metadata": {
        "colab": {
          "base_uri": "https://localhost:8080/"
        },
        "id": "FaV5Vq3DhGJ6",
        "outputId": "cc52e0c2-36cf-496e-ff4d-39f92f83d4e6"
      },
      "execution_count": 9,
      "outputs": [
        {
          "output_type": "stream",
          "name": "stdout",
          "text": [
            "[1, 2, 3, 4, 5]\n"
          ]
        }
      ]
    },
    {
      "cell_type": "code",
      "source": [
        "#  Write a code to append the number 10 to the list [1, 2, 3, 4]\n",
        "\n",
        "# Original list\n",
        "my_list = [1, 2, 3, 4]\n",
        "\n",
        "# Append 10 to the list\n",
        "my_list.append(10)\n",
        "\n",
        "# Print the updated list\n",
        "print(my_list)"
      ],
      "metadata": {
        "colab": {
          "base_uri": "https://localhost:8080/"
        },
        "id": "0soG88YkhXCi",
        "outputId": "23d531ae-5370-401f-86c5-62a56bffa1b3"
      },
      "execution_count": 10,
      "outputs": [
        {
          "output_type": "stream",
          "name": "stdout",
          "text": [
            "[1, 2, 3, 4, 10]\n"
          ]
        }
      ]
    },
    {
      "cell_type": "code",
      "source": [
        "#  Write a code to remove the number 3 from the list [1, 2, 3, 4, 5]\n",
        "\n",
        "# Using the remove() method\n",
        "numbers = [1, 2, 3, 4, 5]\n",
        "numbers.remove(3)\n",
        "print(numbers)"
      ],
      "metadata": {
        "colab": {
          "base_uri": "https://localhost:8080/"
        },
        "id": "ZDnt3fqjh44p",
        "outputId": "d2f52744-8e92-49db-a33c-0aea001c1f7b"
      },
      "execution_count": 11,
      "outputs": [
        {
          "output_type": "stream",
          "name": "stdout",
          "text": [
            "[1, 2, 4, 5]\n"
          ]
        }
      ]
    },
    {
      "cell_type": "code",
      "source": [
        "#  Write a code to access the second element in the list ['a', 'b', 'c', 'd']\n",
        "\n",
        "# Define the list\n",
        "my_list = ['a', 'b', 'c', 'd']\n",
        "\n",
        "# Access the second element (index 1)\n",
        "second_element = my_list[1]\n",
        "\n",
        "# Print the second element\n",
        "print(second_element)"
      ],
      "metadata": {
        "colab": {
          "base_uri": "https://localhost:8080/"
        },
        "id": "uMX9ec7WiOp7",
        "outputId": "321dee42-93fd-4236-e3d5-2c8f15c7c120"
      },
      "execution_count": 12,
      "outputs": [
        {
          "output_type": "stream",
          "name": "stdout",
          "text": [
            "b\n"
          ]
        }
      ]
    },
    {
      "cell_type": "code",
      "source": [
        "# Write a code to reverse the list [10, 20, 30, 40, 50].\n",
        "\n",
        "my_list = [10, 20, 30, 40, 50]\n",
        "my_list.reverse()\n",
        "print(my_list)"
      ],
      "metadata": {
        "colab": {
          "base_uri": "https://localhost:8080/"
        },
        "id": "ZMWdc-3EpFGd",
        "outputId": "c09f1159-90a3-4d67-cb32-4b5473ba4559"
      },
      "execution_count": 13,
      "outputs": [
        {
          "output_type": "stream",
          "name": "stdout",
          "text": [
            "[50, 40, 30, 20, 10]\n"
          ]
        }
      ]
    }
  ]
}